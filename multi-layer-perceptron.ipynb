{
 "cells": [
  {
   "cell_type": "code",
   "execution_count": 1,
   "id": "3f1c9d3d",
   "metadata": {
    "_cell_guid": "b1076dfc-b9ad-4769-8c92-a6c4dae69d19",
    "_uuid": "8f2839f25d086af736a60e9eeb907d3b93b6e0e5",
    "execution": {
     "iopub.execute_input": "2022-07-21T11:49:26.888526Z",
     "iopub.status.busy": "2022-07-21T11:49:26.887543Z",
     "iopub.status.idle": "2022-07-21T11:49:26.905953Z",
     "shell.execute_reply": "2022-07-21T11:49:26.904814Z"
    },
    "papermill": {
     "duration": 0.028063,
     "end_time": "2022-07-21T11:49:26.908685",
     "exception": false,
     "start_time": "2022-07-21T11:49:26.880622",
     "status": "completed"
    },
    "tags": []
   },
   "outputs": [
    {
     "name": "stdout",
     "output_type": "stream",
     "text": [
      "/kaggle/input/students-drop-out-prediction/train.csv\n",
      "/kaggle/input/students-drop-out-prediction/test.csv\n"
     ]
    }
   ],
   "source": [
    "# This Python 3 environment comes with many helpful analytics libraries installed\n",
    "# It is defined by the kaggle/python Docker image: https://github.com/kaggle/docker-python\n",
    "# For example, here's several helpful packages to load\n",
    "\n",
    "import numpy as np # linear algebra\n",
    "import pandas as pd # data processing, CSV file I/O (e.g. pd.read_csv)\n",
    "\n",
    "# Input data files are available in the read-only \"../input/\" directory\n",
    "# For example, running this (by clicking run or pressing Shift+Enter) will list all files under the input directory\n",
    "\n",
    "import os\n",
    "for dirname, _, filenames in os.walk('/kaggle/input'):\n",
    "    for filename in filenames:\n",
    "        print(os.path.join(dirname, filename))\n",
    "\n",
    "# You can write up to 20GB to the current directory (/kaggle/working/) that gets preserved as output when you create a version using \"Save & Run All\" \n",
    "# You can also write temporary files to /kaggle/temp/, but they won't be saved outside of the current session"
   ]
  },
  {
   "cell_type": "code",
   "execution_count": 2,
   "id": "9b0fbdcc",
   "metadata": {
    "execution": {
     "iopub.execute_input": "2022-07-21T11:49:26.919006Z",
     "iopub.status.busy": "2022-07-21T11:49:26.918385Z",
     "iopub.status.idle": "2022-07-21T11:49:28.281852Z",
     "shell.execute_reply": "2022-07-21T11:49:28.280656Z"
    },
    "papermill": {
     "duration": 1.371298,
     "end_time": "2022-07-21T11:49:28.284593",
     "exception": false,
     "start_time": "2022-07-21T11:49:26.913295",
     "status": "completed"
    },
    "tags": []
   },
   "outputs": [],
   "source": [
    "from sklearn.pipeline import Pipeline\n",
    "from sklearn.compose import ColumnTransformer\n",
    "from sklearn.model_selection import GridSearchCV, cross_val_score, train_test_split, RandomizedSearchCV\n",
    "from sklearn.preprocessing import StandardScaler\n",
    "from sklearn.metrics import classification_report, f1_score\n",
    "from sklearn.neural_network import MLPClassifier\n",
    "\n",
    "import seaborn as sns\n",
    "sns.set(rc={'figure.figsize':(20, 20)})"
   ]
  },
  {
   "cell_type": "code",
   "execution_count": 3,
   "id": "3f4055f9",
   "metadata": {
    "execution": {
     "iopub.execute_input": "2022-07-21T11:49:28.295544Z",
     "iopub.status.busy": "2022-07-21T11:49:28.294309Z",
     "iopub.status.idle": "2022-07-21T11:49:28.358019Z",
     "shell.execute_reply": "2022-07-21T11:49:28.356703Z"
    },
    "papermill": {
     "duration": 0.072186,
     "end_time": "2022-07-21T11:49:28.361073",
     "exception": false,
     "start_time": "2022-07-21T11:49:28.288887",
     "status": "completed"
    },
    "tags": []
   },
   "outputs": [],
   "source": [
    "train_df = pd.read_csv(\"../input/students-drop-out-prediction/train.csv\")\n",
    "test_df = pd.read_csv(\"../input/students-drop-out-prediction/test.csv\")"
   ]
  },
  {
   "cell_type": "code",
   "execution_count": 4,
   "id": "60b3c12a",
   "metadata": {
    "execution": {
     "iopub.execute_input": "2022-07-21T11:49:28.371907Z",
     "iopub.status.busy": "2022-07-21T11:49:28.370967Z",
     "iopub.status.idle": "2022-07-21T11:49:28.377961Z",
     "shell.execute_reply": "2022-07-21T11:49:28.376776Z"
    },
    "papermill": {
     "duration": 0.014955,
     "end_time": "2022-07-21T11:49:28.380319",
     "exception": false,
     "start_time": "2022-07-21T11:49:28.365364",
     "status": "completed"
    },
    "tags": []
   },
   "outputs": [],
   "source": [
    "all_col_names = list(set(train_df.columns) - set([\"label\", \"id\"])) \n",
    "binary_col_names = [\"v_1\", \"v_26\", \"v_11\", \"v_14\", \"v_30\", \"v_28\", \"v_9\", \"v_27\"]\n",
    "non_binary_col_names = list(set(all_col_names) - set(binary_col_names))"
   ]
  },
  {
   "cell_type": "code",
   "execution_count": 5,
   "id": "0da4737b",
   "metadata": {
    "execution": {
     "iopub.execute_input": "2022-07-21T11:49:28.390626Z",
     "iopub.status.busy": "2022-07-21T11:49:28.389830Z",
     "iopub.status.idle": "2022-07-21T11:49:28.427290Z",
     "shell.execute_reply": "2022-07-21T11:49:28.426279Z"
    },
    "papermill": {
     "duration": 0.045366,
     "end_time": "2022-07-21T11:49:28.429675",
     "exception": false,
     "start_time": "2022-07-21T11:49:28.384309",
     "status": "completed"
    },
    "tags": []
   },
   "outputs": [],
   "source": [
    "transformer = ColumnTransformer(\n",
    "    [\n",
    "        (\"drop_id\", \"drop\", [\"id\"]),\n",
    "        (\"scale_non_binary\", StandardScaler(), non_binary_col_names)\n",
    "    ],\n",
    "    remainder=\"passthrough\"\n",
    ")\n",
    "transform_train_df = transformer.fit_transform(train_df)\n",
    "feature_names = [name.split(\"__\")[1] for name in transformer.get_feature_names_out()]\n",
    "transform_train_df = pd.DataFrame(data=transform_train_df, columns=feature_names)\n",
    "transform_train_df = transform_train_df.astype(dict([(col, \"int\") for col in binary_col_names]))"
   ]
  },
  {
   "cell_type": "code",
   "execution_count": 6,
   "id": "611a82d7",
   "metadata": {
    "execution": {
     "iopub.execute_input": "2022-07-21T11:49:28.439843Z",
     "iopub.status.busy": "2022-07-21T11:49:28.439132Z",
     "iopub.status.idle": "2022-07-21T11:49:28.449806Z",
     "shell.execute_reply": "2022-07-21T11:49:28.448960Z"
    },
    "papermill": {
     "duration": 0.018625,
     "end_time": "2022-07-21T11:49:28.452330",
     "exception": false,
     "start_time": "2022-07-21T11:49:28.433705",
     "status": "completed"
    },
    "tags": []
   },
   "outputs": [],
   "source": [
    "transform_train_df1 = transform_train_df.copy()\n",
    "y_train_com = transform_train_df1.pop(\"label\")\n",
    "X_train_com = transform_train_df1\n",
    "X_train, X_valid, y_train, y_valid = train_test_split(X_train_com, y_train_com, test_size=0.3, random_state=1)"
   ]
  },
  {
   "cell_type": "markdown",
   "id": "e7186f65",
   "metadata": {
    "execution": {
     "iopub.execute_input": "2022-07-21T11:26:21.296028Z",
     "iopub.status.busy": "2022-07-21T11:26:21.295039Z",
     "iopub.status.idle": "2022-07-21T11:26:28.643668Z",
     "shell.execute_reply": "2022-07-21T11:26:28.642476Z",
     "shell.execute_reply.started": "2022-07-21T11:26:21.295884Z"
    },
    "papermill": {
     "duration": 0.003696,
     "end_time": "2022-07-21T11:49:28.460071",
     "exception": false,
     "start_time": "2022-07-21T11:49:28.456375",
     "status": "completed"
    },
    "tags": []
   },
   "source": [
    "# untuned MLP\n",
    "model = MLPClassifier(random_state=1)\n",
    "model.fit(X_train, y_train)\n",
    "preds = model.predict(X_valid)\n",
    "print(classification_report(y_valid, preds))"
   ]
  },
  {
   "cell_type": "markdown",
   "id": "2143e146",
   "metadata": {
    "papermill": {
     "duration": 0.003708,
     "end_time": "2022-07-21T11:49:28.467827",
     "exception": false,
     "start_time": "2022-07-21T11:49:28.464119",
     "status": "completed"
    },
    "tags": []
   },
   "source": [
    "param_grid = {\n",
    "    \"hidden_layer_sizes\": [(10), (30), (10, 10)],\n",
    "    \"max_iter\": [500, 1000],\n",
    "    \"solver\": [\"sgd\", \"adam\"],\n",
    "    \"activation\": [\"relu\", \"sigmoid\"],\n",
    "    \"alpha\": [0.01, 0.1],\n",
    "}\n",
    "model = MLPClassifier(random_state=1, learning_rate=\"adaptive\")\n",
    "search = GridSearchCV(model, param_grid, scoring=\"f1_macro\", refit=True, cv=3, verbose=1)\n",
    "search.fit(X_train_com, y_train_com)\n",
    "print(search.best_params_)\n",
    "print(search.best_score_)"
   ]
  },
  {
   "cell_type": "markdown",
   "id": "d1583c5f",
   "metadata": {
    "papermill": {
     "duration": 0.003508,
     "end_time": "2022-07-21T11:49:28.475304",
     "exception": false,
     "start_time": "2022-07-21T11:49:28.471796",
     "status": "completed"
    },
    "tags": []
   },
   "source": [
    "{'activation': 'relu', 'alpha': 0.1, 'hidden_layer_sizes': 30, 'max_iter': 1000, 'solver': 'sgd'}\n",
    "0.6585231231872934"
   ]
  },
  {
   "cell_type": "markdown",
   "id": "9f283463",
   "metadata": {
    "execution": {
     "iopub.execute_input": "2022-07-21T11:42:33.451253Z",
     "iopub.status.busy": "2022-07-21T11:42:33.450834Z",
     "iopub.status.idle": "2022-07-21T11:42:49.130637Z",
     "shell.execute_reply": "2022-07-21T11:42:49.129486Z",
     "shell.execute_reply.started": "2022-07-21T11:42:33.451222Z"
    },
    "papermill": {
     "duration": 0.003626,
     "end_time": "2022-07-21T11:49:28.482928",
     "exception": false,
     "start_time": "2022-07-21T11:49:28.479302",
     "status": "completed"
    },
    "tags": []
   },
   "source": [
    "model = MLPClassifier(\n",
    "    random_state=1,\n",
    "    learning_rate=\"adaptive\",\n",
    "    hidden_layer_sizes=40,\n",
    "    max_iter=1000,\n",
    "    solver=\"sgd\",\n",
    "    activation=\"relu\",\n",
    "    alpha=0.1\n",
    ")\n",
    "model.fit(X_train, y_train)\n",
    "preds = model.predict(X_valid)\n",
    "print(classification_report(y_valid, preds))"
   ]
  },
  {
   "cell_type": "code",
   "execution_count": 7,
   "id": "937e0420",
   "metadata": {
    "execution": {
     "iopub.execute_input": "2022-07-21T11:49:28.492666Z",
     "iopub.status.busy": "2022-07-21T11:49:28.491907Z",
     "iopub.status.idle": "2022-07-21T11:49:54.258525Z",
     "shell.execute_reply": "2022-07-21T11:49:54.257134Z"
    },
    "papermill": {
     "duration": 25.776071,
     "end_time": "2022-07-21T11:49:54.262777",
     "exception": false,
     "start_time": "2022-07-21T11:49:28.486706",
     "status": "completed"
    },
    "tags": []
   },
   "outputs": [
    {
     "name": "stderr",
     "output_type": "stream",
     "text": [
      "/opt/conda/lib/python3.7/site-packages/sklearn/neural_network/_multilayer_perceptron.py:696: ConvergenceWarning: Stochastic Optimizer: Maximum iterations (1000) reached and the optimization hasn't converged yet.\n",
      "  ConvergenceWarning,\n"
     ]
    }
   ],
   "source": [
    "model = MLPClassifier(\n",
    "    random_state=1,\n",
    "    learning_rate=\"adaptive\",\n",
    "    hidden_layer_sizes=40,\n",
    "    max_iter=1000,\n",
    "    solver=\"sgd\",\n",
    "    activation=\"relu\",\n",
    "    alpha=0.1\n",
    ")\n",
    "model.fit(X_train_com, y_train_com)\n",
    "\n",
    "# We do not need 'id' column\n",
    "# Scale non binary features\n",
    "test_df = pd.read_csv(\"../input/students-drop-out-prediction/test.csv\")\n",
    "transform_test_data = transformer.fit_transform(test_df)\n",
    "feature_names = [name.split(\"__\")[1] for name in transformer.get_feature_names_out()]\n",
    "transform_test_df = pd.DataFrame(data=transform_test_data, columns=feature_names)\n",
    "transform_test_df = transform_test_df.astype(dict([(col, \"int\") for col in binary_col_names]))\n",
    "preds = [int(i) for i in model.predict(transform_test_df)]\n",
    "submission = pd.DataFrame({\"id\": test_df[\"id\"].to_numpy(), \"label\": preds})\n",
    "submission.to_csv(\"submission.csv\", index=False)"
   ]
  }
 ],
 "metadata": {
  "kernelspec": {
   "display_name": "Python 3",
   "language": "python",
   "name": "python3"
  },
  "language_info": {
   "codemirror_mode": {
    "name": "ipython",
    "version": 3
   },
   "file_extension": ".py",
   "mimetype": "text/x-python",
   "name": "python",
   "nbconvert_exporter": "python",
   "pygments_lexer": "ipython3",
   "version": "3.7.12"
  },
  "papermill": {
   "default_parameters": {},
   "duration": 38.521593,
   "end_time": "2022-07-21T11:49:55.106771",
   "environment_variables": {},
   "exception": null,
   "input_path": "__notebook__.ipynb",
   "output_path": "__notebook__.ipynb",
   "parameters": {},
   "start_time": "2022-07-21T11:49:16.585178",
   "version": "2.3.4"
  }
 },
 "nbformat": 4,
 "nbformat_minor": 5
}
