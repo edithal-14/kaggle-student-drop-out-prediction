{
 "cells": [
  {
   "cell_type": "code",
   "execution_count": 1,
   "id": "cceb2e43",
   "metadata": {
    "_cell_guid": "b1076dfc-b9ad-4769-8c92-a6c4dae69d19",
    "_uuid": "8f2839f25d086af736a60e9eeb907d3b93b6e0e5",
    "execution": {
     "iopub.execute_input": "2022-07-19T20:27:47.967463Z",
     "iopub.status.busy": "2022-07-19T20:27:47.966594Z",
     "iopub.status.idle": "2022-07-19T20:27:47.983309Z",
     "shell.execute_reply": "2022-07-19T20:27:47.982073Z"
    },
    "papermill": {
     "duration": 0.029758,
     "end_time": "2022-07-19T20:27:47.986197",
     "exception": false,
     "start_time": "2022-07-19T20:27:47.956439",
     "status": "completed"
    },
    "tags": []
   },
   "outputs": [
    {
     "name": "stdout",
     "output_type": "stream",
     "text": [
      "/kaggle/input/students-drop-out-prediction/train.csv\n",
      "/kaggle/input/students-drop-out-prediction/test.csv\n"
     ]
    }
   ],
   "source": [
    "# This Python 3 environment comes with many helpful analytics libraries installed\n",
    "# It is defined by the kaggle/python Docker image: https://github.com/kaggle/docker-python\n",
    "# For example, here's several helpful packages to load\n",
    "\n",
    "import numpy as np # linear algebra\n",
    "import pandas as pd # data processing, CSV file I/O (e.g. pd.read_csv)\n",
    "\n",
    "# Input data files are available in the read-only \"../input/\" directory\n",
    "# For example, running this (by clicking run or pressing Shift+Enter) will list all files under the input directory\n",
    "\n",
    "import os\n",
    "for dirname, _, filenames in os.walk('/kaggle/input'):\n",
    "    for filename in filenames:\n",
    "        print(os.path.join(dirname, filename))\n",
    "\n",
    "# You can write up to 20GB to the current directory (/kaggle/working/) that gets preserved as output when you create a version using \"Save & Run All\" \n",
    "# You can also write temporary files to /kaggle/temp/, but they won't be saved outside of the current session"
   ]
  },
  {
   "cell_type": "code",
   "execution_count": 2,
   "id": "ecb822f5",
   "metadata": {
    "execution": {
     "iopub.execute_input": "2022-07-19T20:27:48.002086Z",
     "iopub.status.busy": "2022-07-19T20:27:48.001679Z",
     "iopub.status.idle": "2022-07-19T20:27:49.634953Z",
     "shell.execute_reply": "2022-07-19T20:27:49.633788Z"
    },
    "papermill": {
     "duration": 1.644327,
     "end_time": "2022-07-19T20:27:49.637856",
     "exception": false,
     "start_time": "2022-07-19T20:27:47.993529",
     "status": "completed"
    },
    "tags": []
   },
   "outputs": [],
   "source": [
    "from sklearn.pipeline import Pipeline\n",
    "from sklearn.compose import ColumnTransformer\n",
    "from sklearn.decomposition import PCA\n",
    "from sklearn.model_selection import GridSearchCV, cross_val_score, train_test_split, RandomizedSearchCV\n",
    "from sklearn.preprocessing import StandardScaler\n",
    "from sklearn.tree import DecisionTreeClassifier\n",
    "from sklearn.metrics import classification_report\n",
    "\n",
    "import seaborn as sns\n",
    "sns.set(rc={'figure.figsize':(20, 20)})"
   ]
  },
  {
   "cell_type": "code",
   "execution_count": 3,
   "id": "939ba3dc",
   "metadata": {
    "execution": {
     "iopub.execute_input": "2022-07-19T20:27:49.654907Z",
     "iopub.status.busy": "2022-07-19T20:27:49.654094Z",
     "iopub.status.idle": "2022-07-19T20:27:49.709895Z",
     "shell.execute_reply": "2022-07-19T20:27:49.708724Z"
    },
    "papermill": {
     "duration": 0.067492,
     "end_time": "2022-07-19T20:27:49.712479",
     "exception": false,
     "start_time": "2022-07-19T20:27:49.644987",
     "status": "completed"
    },
    "tags": []
   },
   "outputs": [],
   "source": [
    "train_df = pd.read_csv(\"../input/students-drop-out-prediction/train.csv\")"
   ]
  },
  {
   "cell_type": "code",
   "execution_count": 4,
   "id": "3f3d8a81",
   "metadata": {
    "execution": {
     "iopub.execute_input": "2022-07-19T20:27:49.729775Z",
     "iopub.status.busy": "2022-07-19T20:27:49.728842Z",
     "iopub.status.idle": "2022-07-19T20:27:49.735920Z",
     "shell.execute_reply": "2022-07-19T20:27:49.735103Z"
    },
    "papermill": {
     "duration": 0.018503,
     "end_time": "2022-07-19T20:27:49.738342",
     "exception": false,
     "start_time": "2022-07-19T20:27:49.719839",
     "status": "completed"
    },
    "tags": []
   },
   "outputs": [],
   "source": [
    "all_col_names = list(set(train_df.columns) - set([\"label\", \"id\"])) \n",
    "binary_col_names = [\"v_1\", \"v_26\", \"v_11\", \"v_14\", \"v_30\", \"v_28\", \"v_9\", \"v_27\"]\n",
    "non_binary_col_names = list(set(all_col_names) - set(binary_col_names))"
   ]
  },
  {
   "cell_type": "code",
   "execution_count": 5,
   "id": "d969a774",
   "metadata": {
    "execution": {
     "iopub.execute_input": "2022-07-19T20:27:49.754403Z",
     "iopub.status.busy": "2022-07-19T20:27:49.754004Z",
     "iopub.status.idle": "2022-07-19T20:27:49.790132Z",
     "shell.execute_reply": "2022-07-19T20:27:49.788977Z"
    },
    "papermill": {
     "duration": 0.048012,
     "end_time": "2022-07-19T20:27:49.793192",
     "exception": false,
     "start_time": "2022-07-19T20:27:49.745180",
     "status": "completed"
    },
    "tags": []
   },
   "outputs": [],
   "source": [
    "transformer = ColumnTransformer(\n",
    "    [\n",
    "        (\"drop_id\", \"drop\", [\"id\"]),\n",
    "        (\"scale_non_binary\", StandardScaler(), non_binary_col_names)\n",
    "    ],\n",
    "    remainder=\"passthrough\"\n",
    ")\n",
    "transform_train_df = transformer.fit_transform(train_df)\n",
    "feature_names = [name.split(\"__\")[1] for name in transformer.get_feature_names_out()]\n",
    "transform_train_df = pd.DataFrame(data=transform_train_df, columns=feature_names)\n",
    "transform_train_df = transform_train_df.astype(dict([(col, \"int\") for col in binary_col_names]))"
   ]
  },
  {
   "cell_type": "code",
   "execution_count": 6,
   "id": "b92ed8c5",
   "metadata": {
    "execution": {
     "iopub.execute_input": "2022-07-19T20:27:49.808543Z",
     "iopub.status.busy": "2022-07-19T20:27:49.808136Z",
     "iopub.status.idle": "2022-07-19T20:27:49.820021Z",
     "shell.execute_reply": "2022-07-19T20:27:49.819021Z"
    },
    "papermill": {
     "duration": 0.022614,
     "end_time": "2022-07-19T20:27:49.822590",
     "exception": false,
     "start_time": "2022-07-19T20:27:49.799976",
     "status": "completed"
    },
    "tags": []
   },
   "outputs": [],
   "source": [
    "transform_train_df1 = transform_train_df.copy()\n",
    "y_train_com = transform_train_df1.pop(\"label\")\n",
    "X_train_com = transform_train_df1\n",
    "X_train, X_valid, y_train, y_valid = train_test_split(X_train_com, y_train_com, test_size=0.3, random_state=1)"
   ]
  },
  {
   "cell_type": "code",
   "execution_count": 7,
   "id": "02d2dec3",
   "metadata": {
    "execution": {
     "iopub.execute_input": "2022-07-19T20:27:49.838890Z",
     "iopub.status.busy": "2022-07-19T20:27:49.838404Z",
     "iopub.status.idle": "2022-07-19T20:27:49.914634Z",
     "shell.execute_reply": "2022-07-19T20:27:49.913257Z"
    },
    "papermill": {
     "duration": 0.088916,
     "end_time": "2022-07-19T20:27:49.918437",
     "exception": false,
     "start_time": "2022-07-19T20:27:49.829521",
     "status": "completed"
    },
    "tags": []
   },
   "outputs": [],
   "source": [
    "pca = PCA(random_state=1)\n",
    "reduced_transform_train_df = pca.fit_transform(transform_train_df[non_binary_col_names])"
   ]
  },
  {
   "cell_type": "code",
   "execution_count": 8,
   "id": "cba7cf7d",
   "metadata": {
    "execution": {
     "iopub.execute_input": "2022-07-19T20:27:49.950732Z",
     "iopub.status.busy": "2022-07-19T20:27:49.950120Z",
     "iopub.status.idle": "2022-07-19T20:27:49.970708Z",
     "shell.execute_reply": "2022-07-19T20:27:49.969292Z"
    },
    "papermill": {
     "duration": 0.044711,
     "end_time": "2022-07-19T20:27:49.975112",
     "exception": false,
     "start_time": "2022-07-19T20:27:49.930401",
     "status": "completed"
    },
    "tags": []
   },
   "outputs": [
    {
     "data": {
      "text/plain": [
       "array([0.25293787, 0.07293534, 0.0653788 , 0.05730171])"
      ]
     },
     "execution_count": 8,
     "metadata": {},
     "output_type": "execute_result"
    }
   ],
   "source": [
    "pca.explained_variance_ratio_[:4]"
   ]
  },
  {
   "cell_type": "code",
   "execution_count": 9,
   "id": "5401d4e5",
   "metadata": {
    "execution": {
     "iopub.execute_input": "2022-07-19T20:27:50.004048Z",
     "iopub.status.busy": "2022-07-19T20:27:50.003380Z",
     "iopub.status.idle": "2022-07-19T20:27:50.029335Z",
     "shell.execute_reply": "2022-07-19T20:27:50.027923Z"
    },
    "papermill": {
     "duration": 0.044668,
     "end_time": "2022-07-19T20:27:50.033244",
     "exception": false,
     "start_time": "2022-07-19T20:27:49.988576",
     "status": "completed"
    },
    "tags": []
   },
   "outputs": [],
   "source": [
    "reduced_transform_train_df = pd.DataFrame(data = reduced_transform_train_df[:,:4], columns = [\"PC1\", \"PC2\", \"PC3\", \"PC4\"])\n",
    "for col in binary_col_names:\n",
    "    reduced_transform_train_df[col] = transform_train_df[col]\n",
    "reduced_X_train_com = reduced_transform_train_df.copy()\n",
    "reduced_y_train_com = y_train_com\n",
    "reduced_X_train, reduced_X_valid, reduced_y_train, reduced_y_valid = train_test_split(reduced_X_train_com, reduced_y_train_com, test_size=0.3, random_state=1)"
   ]
  },
  {
   "cell_type": "code",
   "execution_count": 10,
   "id": "d2d38dbd",
   "metadata": {
    "execution": {
     "iopub.execute_input": "2022-07-19T20:27:50.049451Z",
     "iopub.status.busy": "2022-07-19T20:27:50.049041Z",
     "iopub.status.idle": "2022-07-19T20:27:50.239197Z",
     "shell.execute_reply": "2022-07-19T20:27:50.237939Z"
    },
    "papermill": {
     "duration": 0.201494,
     "end_time": "2022-07-19T20:27:50.241955",
     "exception": false,
     "start_time": "2022-07-19T20:27:50.040461",
     "status": "completed"
    },
    "tags": []
   },
   "outputs": [
    {
     "data": {
      "text/plain": [
       "0.6265817157765987"
      ]
     },
     "execution_count": 10,
     "metadata": {},
     "output_type": "execute_result"
    }
   ],
   "source": [
    "# Without PCA\n",
    "model = DecisionTreeClassifier(class_weight=\"balanced\", random_state=1, ccp_alpha=0.001, max_depth=8)\n",
    "cross_val_score(model, X_train_com, y_train_com, cv=5, scoring=\"f1_macro\").mean()"
   ]
  },
  {
   "cell_type": "code",
   "execution_count": 11,
   "id": "e132b3f6",
   "metadata": {
    "execution": {
     "iopub.execute_input": "2022-07-19T20:27:50.258615Z",
     "iopub.status.busy": "2022-07-19T20:27:50.258235Z",
     "iopub.status.idle": "2022-07-19T20:27:50.302757Z",
     "shell.execute_reply": "2022-07-19T20:27:50.301153Z"
    },
    "papermill": {
     "duration": 0.055644,
     "end_time": "2022-07-19T20:27:50.305385",
     "exception": false,
     "start_time": "2022-07-19T20:27:50.249741",
     "status": "completed"
    },
    "tags": []
   },
   "outputs": [
    {
     "name": "stdout",
     "output_type": "stream",
     "text": [
      "              precision    recall  f1-score   support\n",
      "\n",
      "         0.0       0.73      0.59      0.65       375\n",
      "         1.0       0.80      0.69      0.74       540\n",
      "         2.0       0.36      0.59      0.44       224\n",
      "\n",
      "    accuracy                           0.64      1139\n",
      "   macro avg       0.63      0.62      0.61      1139\n",
      "weighted avg       0.69      0.64      0.65      1139\n",
      "\n"
     ]
    }
   ],
   "source": [
    "model.fit(X_train, y_train)\n",
    "preds = model.predict(X_valid)\n",
    "print(classification_report(y_valid, preds))"
   ]
  },
  {
   "cell_type": "code",
   "execution_count": 12,
   "id": "c6c44301",
   "metadata": {
    "execution": {
     "iopub.execute_input": "2022-07-19T20:27:50.321070Z",
     "iopub.status.busy": "2022-07-19T20:27:50.320685Z",
     "iopub.status.idle": "2022-07-19T20:27:50.327949Z",
     "shell.execute_reply": "2022-07-19T20:27:50.326598Z"
    },
    "papermill": {
     "duration": 0.017809,
     "end_time": "2022-07-19T20:27:50.330294",
     "exception": false,
     "start_time": "2022-07-19T20:27:50.312485",
     "status": "completed"
    },
    "tags": []
   },
   "outputs": [
    {
     "data": {
      "text/plain": [
       "8"
      ]
     },
     "execution_count": 12,
     "metadata": {},
     "output_type": "execute_result"
    }
   ],
   "source": [
    "model.tree_.max_depth"
   ]
  },
  {
   "cell_type": "code",
   "execution_count": 13,
   "id": "e22f7758",
   "metadata": {
    "execution": {
     "iopub.execute_input": "2022-07-19T20:27:50.347934Z",
     "iopub.status.busy": "2022-07-19T20:27:50.347513Z",
     "iopub.status.idle": "2022-07-19T20:28:15.315554Z",
     "shell.execute_reply": "2022-07-19T20:28:15.314269Z"
    },
    "papermill": {
     "duration": 24.980182,
     "end_time": "2022-07-19T20:28:15.318210",
     "exception": false,
     "start_time": "2022-07-19T20:27:50.338028",
     "status": "completed"
    },
    "tags": []
   },
   "outputs": [
    {
     "data": {
      "text/plain": [
       "GridSearchCV(cv=5,\n",
       "             estimator=DecisionTreeClassifier(class_weight='balanced',\n",
       "                                              random_state=1),\n",
       "             param_grid={'ccp_alpha': [0.0001, 0.001, 0.01],\n",
       "                         'max_depth': [5, 10, 15],\n",
       "                         'max_features': ['auto', 'log2', None],\n",
       "                         'min_samples_leaf': [5, 10, 15],\n",
       "                         'min_samples_split': [5, 10, 15]},\n",
       "             scoring='f1_macro')"
      ]
     },
     "execution_count": 13,
     "metadata": {},
     "output_type": "execute_result"
    }
   ],
   "source": [
    "# Grid search without PCA\n",
    "param_grid = {\n",
    "    \"ccp_alpha\": [0.0001, 0.001, 0.01],\n",
    "    \"max_depth\": [5, 10, 15],\n",
    "    \"min_samples_split\": [5, 10, 15],\n",
    "    \"min_samples_leaf\": [5, 10, 15],\n",
    "    \"max_features\": [\"auto\", \"log2\", None]\n",
    "}\n",
    "model = DecisionTreeClassifier(class_weight=\"balanced\", random_state=1)\n",
    "search = GridSearchCV(model, param_grid=param_grid, scoring=\"f1_macro\", refit=True, cv=5)\n",
    "search.fit(X_train_com, y_train_com)"
   ]
  },
  {
   "cell_type": "code",
   "execution_count": 14,
   "id": "718f00ad",
   "metadata": {
    "execution": {
     "iopub.execute_input": "2022-07-19T20:28:15.335357Z",
     "iopub.status.busy": "2022-07-19T20:28:15.334967Z",
     "iopub.status.idle": "2022-07-19T20:28:15.342288Z",
     "shell.execute_reply": "2022-07-19T20:28:15.341199Z"
    },
    "papermill": {
     "duration": 0.018621,
     "end_time": "2022-07-19T20:28:15.344560",
     "exception": false,
     "start_time": "2022-07-19T20:28:15.325939",
     "status": "completed"
    },
    "tags": []
   },
   "outputs": [
    {
     "data": {
      "text/plain": [
       "{'ccp_alpha': 0.001,\n",
       " 'max_depth': 15,\n",
       " 'max_features': 'auto',\n",
       " 'min_samples_leaf': 10,\n",
       " 'min_samples_split': 5}"
      ]
     },
     "execution_count": 14,
     "metadata": {},
     "output_type": "execute_result"
    }
   ],
   "source": [
    "search.best_params_"
   ]
  },
  {
   "cell_type": "code",
   "execution_count": 15,
   "id": "a122c208",
   "metadata": {
    "execution": {
     "iopub.execute_input": "2022-07-19T20:28:15.362472Z",
     "iopub.status.busy": "2022-07-19T20:28:15.361293Z",
     "iopub.status.idle": "2022-07-19T20:28:15.367482Z",
     "shell.execute_reply": "2022-07-19T20:28:15.366716Z"
    },
    "papermill": {
     "duration": 0.017918,
     "end_time": "2022-07-19T20:28:15.370152",
     "exception": false,
     "start_time": "2022-07-19T20:28:15.352234",
     "status": "completed"
    },
    "tags": []
   },
   "outputs": [
    {
     "data": {
      "text/plain": [
       "0.6161744838830125"
      ]
     },
     "execution_count": 15,
     "metadata": {},
     "output_type": "execute_result"
    }
   ],
   "source": [
    "search.best_score_"
   ]
  },
  {
   "cell_type": "code",
   "execution_count": 16,
   "id": "084c03ea",
   "metadata": {
    "execution": {
     "iopub.execute_input": "2022-07-19T20:28:15.388316Z",
     "iopub.status.busy": "2022-07-19T20:28:15.387406Z",
     "iopub.status.idle": "2022-07-19T20:28:15.479064Z",
     "shell.execute_reply": "2022-07-19T20:28:15.477953Z"
    },
    "papermill": {
     "duration": 0.103607,
     "end_time": "2022-07-19T20:28:15.481524",
     "exception": false,
     "start_time": "2022-07-19T20:28:15.377917",
     "status": "completed"
    },
    "tags": []
   },
   "outputs": [
    {
     "data": {
      "text/plain": [
       "0.5518006178930926"
      ]
     },
     "execution_count": 16,
     "metadata": {},
     "output_type": "execute_result"
    }
   ],
   "source": [
    "# With PCA\n",
    "model = DecisionTreeClassifier(class_weight=\"balanced\", random_state=1, max_depth=5, ccp_alpha=0.001)\n",
    "cross_val_score(model, reduced_X_train_com, reduced_y_train_com, cv=5, scoring=\"f1_macro\").mean()"
   ]
  },
  {
   "cell_type": "code",
   "execution_count": 17,
   "id": "76169fe5",
   "metadata": {
    "execution": {
     "iopub.execute_input": "2022-07-19T20:28:15.499601Z",
     "iopub.status.busy": "2022-07-19T20:28:15.499214Z",
     "iopub.status.idle": "2022-07-19T20:28:15.526552Z",
     "shell.execute_reply": "2022-07-19T20:28:15.525419Z"
    },
    "papermill": {
     "duration": 0.039624,
     "end_time": "2022-07-19T20:28:15.529387",
     "exception": false,
     "start_time": "2022-07-19T20:28:15.489763",
     "status": "completed"
    },
    "tags": []
   },
   "outputs": [
    {
     "name": "stdout",
     "output_type": "stream",
     "text": [
      "              precision    recall  f1-score   support\n",
      "\n",
      "         0.0       0.78      0.61      0.69       375\n",
      "         1.0       0.76      0.56      0.65       540\n",
      "         2.0       0.28      0.54      0.36       224\n",
      "\n",
      "    accuracy                           0.58      1139\n",
      "   macro avg       0.60      0.57      0.57      1139\n",
      "weighted avg       0.67      0.58      0.60      1139\n",
      "\n"
     ]
    }
   ],
   "source": [
    "model.fit(reduced_X_train, reduced_y_train)\n",
    "preds = model.predict(reduced_X_valid)\n",
    "print(classification_report(reduced_y_valid, preds))"
   ]
  },
  {
   "cell_type": "code",
   "execution_count": 18,
   "id": "ebbfd81d",
   "metadata": {
    "execution": {
     "iopub.execute_input": "2022-07-19T20:28:15.547002Z",
     "iopub.status.busy": "2022-07-19T20:28:15.546262Z",
     "iopub.status.idle": "2022-07-19T20:28:25.373370Z",
     "shell.execute_reply": "2022-07-19T20:28:25.371984Z"
    },
    "papermill": {
     "duration": 9.838758,
     "end_time": "2022-07-19T20:28:25.375938",
     "exception": false,
     "start_time": "2022-07-19T20:28:15.537180",
     "status": "completed"
    },
    "tags": []
   },
   "outputs": [
    {
     "data": {
      "text/plain": [
       "GridSearchCV(cv=3,\n",
       "             estimator=DecisionTreeClassifier(class_weight='balanced',\n",
       "                                              random_state=1),\n",
       "             param_grid={'ccp_alpha': [0.0001, 0.001, 0.01],\n",
       "                         'max_depth': [5, 10, 15],\n",
       "                         'max_features': ['auto', 'log2', None],\n",
       "                         'min_samples_leaf': [5, 10, 15],\n",
       "                         'min_samples_split': [5, 10, 15]},\n",
       "             scoring='f1_macro')"
      ]
     },
     "execution_count": 18,
     "metadata": {},
     "output_type": "execute_result"
    }
   ],
   "source": [
    "# Grid search with PCA\n",
    "param_grid = {\n",
    "    \"ccp_alpha\": [0.0001, 0.001, 0.01],\n",
    "    \"max_depth\": [5, 10, 15],\n",
    "    \"min_samples_split\": [5, 10, 15],\n",
    "    \"min_samples_leaf\": [5, 10, 15],\n",
    "    \"max_features\": [\"auto\", \"log2\", None]\n",
    "}\n",
    "model = DecisionTreeClassifier(class_weight=\"balanced\", random_state=1)\n",
    "search = GridSearchCV(model, param_grid, scoring=\"f1_macro\", refit=True, cv=3)\n",
    "search.fit(reduced_X_train_com, reduced_y_train_com)"
   ]
  },
  {
   "cell_type": "code",
   "execution_count": 19,
   "id": "58e27097",
   "metadata": {
    "execution": {
     "iopub.execute_input": "2022-07-19T20:28:25.394806Z",
     "iopub.status.busy": "2022-07-19T20:28:25.394396Z",
     "iopub.status.idle": "2022-07-19T20:28:25.401496Z",
     "shell.execute_reply": "2022-07-19T20:28:25.400396Z"
    },
    "papermill": {
     "duration": 0.019064,
     "end_time": "2022-07-19T20:28:25.403811",
     "exception": false,
     "start_time": "2022-07-19T20:28:25.384747",
     "status": "completed"
    },
    "tags": []
   },
   "outputs": [
    {
     "data": {
      "text/plain": [
       "0.5616116223745732"
      ]
     },
     "execution_count": 19,
     "metadata": {},
     "output_type": "execute_result"
    }
   ],
   "source": [
    "search.best_score_"
   ]
  },
  {
   "cell_type": "code",
   "execution_count": 20,
   "id": "ae0272d7",
   "metadata": {
    "execution": {
     "iopub.execute_input": "2022-07-19T20:28:25.421853Z",
     "iopub.status.busy": "2022-07-19T20:28:25.421455Z",
     "iopub.status.idle": "2022-07-19T20:28:25.427952Z",
     "shell.execute_reply": "2022-07-19T20:28:25.426828Z"
    },
    "papermill": {
     "duration": 0.018562,
     "end_time": "2022-07-19T20:28:25.430438",
     "exception": false,
     "start_time": "2022-07-19T20:28:25.411876",
     "status": "completed"
    },
    "tags": []
   },
   "outputs": [
    {
     "data": {
      "text/plain": [
       "{'ccp_alpha': 0.001,\n",
       " 'max_depth': 10,\n",
       " 'max_features': 'auto',\n",
       " 'min_samples_leaf': 5,\n",
       " 'min_samples_split': 5}"
      ]
     },
     "execution_count": 20,
     "metadata": {},
     "output_type": "execute_result"
    }
   ],
   "source": [
    "search.best_params_"
   ]
  },
  {
   "cell_type": "markdown",
   "id": "b8c9f8df",
   "metadata": {
    "papermill": {
     "duration": 0.008149,
     "end_time": "2022-07-19T20:28:25.446685",
     "exception": false,
     "start_time": "2022-07-19T20:28:25.438536",
     "status": "completed"
    },
    "tags": []
   },
   "source": [
    "#### Best parameters after HPT\n",
    "#### ccp_alpha: 0.001\n",
    "#### max_depth=10\n",
    "#### max_features=None\n",
    "#### min_samples_leaf=10\n",
    "#### min_samples_split=5\n",
    "#### random_state=1\n",
    "#### class_weight=balanced\n",
    "#### CV=5, f1 macro score = 0.616\n",
    "#### Note that PCA did not help"
   ]
  },
  {
   "cell_type": "code",
   "execution_count": 21,
   "id": "386f66ea",
   "metadata": {
    "execution": {
     "iopub.execute_input": "2022-07-19T20:28:25.465683Z",
     "iopub.status.busy": "2022-07-19T20:28:25.465302Z",
     "iopub.status.idle": "2022-07-19T20:28:25.511523Z",
     "shell.execute_reply": "2022-07-19T20:28:25.510203Z"
    },
    "papermill": {
     "duration": 0.059354,
     "end_time": "2022-07-19T20:28:25.514614",
     "exception": false,
     "start_time": "2022-07-19T20:28:25.455260",
     "status": "completed"
    },
    "tags": []
   },
   "outputs": [
    {
     "name": "stdout",
     "output_type": "stream",
     "text": [
      "              precision    recall  f1-score   support\n",
      "\n",
      "         0.0       0.70      0.63      0.66       375\n",
      "         1.0       0.79      0.66      0.72       540\n",
      "         2.0       0.35      0.55      0.43       224\n",
      "\n",
      "    accuracy                           0.63      1139\n",
      "   macro avg       0.61      0.61      0.60      1139\n",
      "weighted avg       0.68      0.63      0.64      1139\n",
      "\n"
     ]
    }
   ],
   "source": [
    "model = DecisionTreeClassifier(\n",
    "    class_weight=\"balanced\",\n",
    "    random_state=1,\n",
    "    ccp_alpha=0.001,\n",
    "    max_depth=10,\n",
    "    max_features=None,\n",
    "    min_samples_leaf=10,\n",
    "    min_samples_split=5\n",
    ")\n",
    "model.fit(X_train, y_train)\n",
    "preds = model.predict(X_valid)\n",
    "print(classification_report(y_valid, preds))"
   ]
  },
  {
   "cell_type": "code",
   "execution_count": 22,
   "id": "4559a1ff",
   "metadata": {
    "execution": {
     "iopub.execute_input": "2022-07-19T20:28:25.533832Z",
     "iopub.status.busy": "2022-07-19T20:28:25.533433Z",
     "iopub.status.idle": "2022-07-19T20:28:25.583072Z",
     "shell.execute_reply": "2022-07-19T20:28:25.581859Z"
    },
    "papermill": {
     "duration": 0.062547,
     "end_time": "2022-07-19T20:28:25.585801",
     "exception": false,
     "start_time": "2022-07-19T20:28:25.523254",
     "status": "completed"
    },
    "tags": []
   },
   "outputs": [],
   "source": [
    "# We do not need 'id' column\n",
    "# Scale non binary features\n",
    "test_df = pd.read_csv(\"../input/students-drop-out-prediction/test.csv\")\n",
    "transform_test_data = transformer.fit_transform(test_df)\n",
    "feature_names = [name.split(\"__\")[1] for name in transformer.get_feature_names_out()]\n",
    "transform_test_df = pd.DataFrame(data=transform_test_data, columns=feature_names)\n",
    "preds = [int(i) for i in model.predict(transform_test_df)]\n",
    "submission = pd.DataFrame({\"id\": test_df[\"id\"].to_numpy(), \"label\": preds})\n",
    "submission.to_csv(\"submission.csv\", index=False)"
   ]
  }
 ],
 "metadata": {
  "kernelspec": {
   "display_name": "Python 3",
   "language": "python",
   "name": "python3"
  },
  "language_info": {
   "codemirror_mode": {
    "name": "ipython",
    "version": 3
   },
   "file_extension": ".py",
   "mimetype": "text/x-python",
   "name": "python",
   "nbconvert_exporter": "python",
   "pygments_lexer": "ipython3",
   "version": "3.7.12"
  },
  "papermill": {
   "default_parameters": {},
   "duration": 48.579612,
   "end_time": "2022-07-19T20:28:26.316912",
   "environment_variables": {},
   "exception": null,
   "input_path": "__notebook__.ipynb",
   "output_path": "__notebook__.ipynb",
   "parameters": {},
   "start_time": "2022-07-19T20:27:37.737300",
   "version": "2.3.4"
  }
 },
 "nbformat": 4,
 "nbformat_minor": 5
}
