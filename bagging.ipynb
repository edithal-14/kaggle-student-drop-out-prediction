{
 "cells": [
  {
   "cell_type": "code",
   "execution_count": 1,
   "id": "b0d5c89b",
   "metadata": {
    "_cell_guid": "b1076dfc-b9ad-4769-8c92-a6c4dae69d19",
    "_uuid": "8f2839f25d086af736a60e9eeb907d3b93b6e0e5",
    "execution": {
     "iopub.execute_input": "2022-07-20T17:58:30.495741Z",
     "iopub.status.busy": "2022-07-20T17:58:30.495172Z",
     "iopub.status.idle": "2022-07-20T17:58:30.511410Z",
     "shell.execute_reply": "2022-07-20T17:58:30.510130Z"
    },
    "papermill": {
     "duration": 0.027284,
     "end_time": "2022-07-20T17:58:30.514239",
     "exception": false,
     "start_time": "2022-07-20T17:58:30.486955",
     "status": "completed"
    },
    "tags": []
   },
   "outputs": [
    {
     "name": "stdout",
     "output_type": "stream",
     "text": [
      "/kaggle/input/students-drop-out-prediction/train.csv\n",
      "/kaggle/input/students-drop-out-prediction/test.csv\n"
     ]
    }
   ],
   "source": [
    "# This Python 3 environment comes with many helpful analytics libraries installed\n",
    "# It is defined by the kaggle/python Docker image: https://github.com/kaggle/docker-python\n",
    "# For example, here's several helpful packages to load\n",
    "\n",
    "import numpy as np # linear algebra\n",
    "import pandas as pd # data processing, CSV file I/O (e.g. pd.read_csv)\n",
    "\n",
    "# Input data files are available in the read-only \"../input/\" directory\n",
    "# For example, running this (by clicking run or pressing Shift+Enter) will list all files under the input directory\n",
    "\n",
    "import os\n",
    "for dirname, _, filenames in os.walk('/kaggle/input'):\n",
    "    for filename in filenames:\n",
    "        print(os.path.join(dirname, filename))\n",
    "\n",
    "# You can write up to 20GB to the current directory (/kaggle/working/) that gets preserved as output when you create a version using \"Save & Run All\" \n",
    "# You can also write temporary files to /kaggle/temp/, but they won't be saved outside of the current session"
   ]
  },
  {
   "cell_type": "code",
   "execution_count": 2,
   "id": "97e9bd73",
   "metadata": {
    "execution": {
     "iopub.execute_input": "2022-07-20T17:58:30.526513Z",
     "iopub.status.busy": "2022-07-20T17:58:30.526173Z",
     "iopub.status.idle": "2022-07-20T17:58:32.141213Z",
     "shell.execute_reply": "2022-07-20T17:58:32.140033Z"
    },
    "papermill": {
     "duration": 1.624051,
     "end_time": "2022-07-20T17:58:32.143812",
     "exception": false,
     "start_time": "2022-07-20T17:58:30.519761",
     "status": "completed"
    },
    "tags": []
   },
   "outputs": [],
   "source": [
    "from sklearn.pipeline import Pipeline\n",
    "from sklearn.compose import ColumnTransformer\n",
    "from sklearn.decomposition import PCA\n",
    "from sklearn.model_selection import GridSearchCV, cross_val_score, train_test_split, RandomizedSearchCV\n",
    "from sklearn.preprocessing import StandardScaler\n",
    "from sklearn.tree import DecisionTreeClassifier\n",
    "from sklearn.metrics import classification_report\n",
    "from sklearn.ensemble import VotingClassifier, BaggingClassifier, RandomForestClassifier\n",
    "\n",
    "import seaborn as sns\n",
    "sns.set(rc={'figure.figsize':(20, 20)})"
   ]
  },
  {
   "cell_type": "code",
   "execution_count": 3,
   "id": "b80a690d",
   "metadata": {
    "execution": {
     "iopub.execute_input": "2022-07-20T17:58:32.156081Z",
     "iopub.status.busy": "2022-07-20T17:58:32.155193Z",
     "iopub.status.idle": "2022-07-20T17:58:32.217760Z",
     "shell.execute_reply": "2022-07-20T17:58:32.216597Z"
    },
    "papermill": {
     "duration": 0.071503,
     "end_time": "2022-07-20T17:58:32.220358",
     "exception": false,
     "start_time": "2022-07-20T17:58:32.148855",
     "status": "completed"
    },
    "tags": []
   },
   "outputs": [],
   "source": [
    "train_df = pd.read_csv(\"../input/students-drop-out-prediction/train.csv\")\n",
    "test_df = pd.read_csv(\"../input/students-drop-out-prediction/test.csv\")"
   ]
  },
  {
   "cell_type": "code",
   "execution_count": 4,
   "id": "649e6674",
   "metadata": {
    "execution": {
     "iopub.execute_input": "2022-07-20T17:58:32.231933Z",
     "iopub.status.busy": "2022-07-20T17:58:32.231566Z",
     "iopub.status.idle": "2022-07-20T17:58:32.237087Z",
     "shell.execute_reply": "2022-07-20T17:58:32.235963Z"
    },
    "papermill": {
     "duration": 0.013781,
     "end_time": "2022-07-20T17:58:32.239359",
     "exception": false,
     "start_time": "2022-07-20T17:58:32.225578",
     "status": "completed"
    },
    "tags": []
   },
   "outputs": [],
   "source": [
    "all_col_names = list(set(train_df.columns) - set([\"label\", \"id\"])) \n",
    "binary_col_names = [\"v_1\", \"v_26\", \"v_11\", \"v_14\", \"v_30\", \"v_28\", \"v_9\", \"v_27\"]\n",
    "non_binary_col_names = list(set(all_col_names) - set(binary_col_names))"
   ]
  },
  {
   "cell_type": "code",
   "execution_count": 5,
   "id": "19c7cb49",
   "metadata": {
    "execution": {
     "iopub.execute_input": "2022-07-20T17:58:32.251428Z",
     "iopub.status.busy": "2022-07-20T17:58:32.251012Z",
     "iopub.status.idle": "2022-07-20T17:58:32.285350Z",
     "shell.execute_reply": "2022-07-20T17:58:32.284105Z"
    },
    "papermill": {
     "duration": 0.04346,
     "end_time": "2022-07-20T17:58:32.287924",
     "exception": false,
     "start_time": "2022-07-20T17:58:32.244464",
     "status": "completed"
    },
    "tags": []
   },
   "outputs": [],
   "source": [
    "transformer = ColumnTransformer(\n",
    "    [\n",
    "        (\"drop_id\", \"drop\", [\"id\"]),\n",
    "        (\"scale_non_binary\", StandardScaler(), non_binary_col_names)\n",
    "    ],\n",
    "    remainder=\"passthrough\"\n",
    ")\n",
    "transform_train_df = transformer.fit_transform(train_df)\n",
    "feature_names = [name.split(\"__\")[1] for name in transformer.get_feature_names_out()]\n",
    "transform_train_df = pd.DataFrame(data=transform_train_df, columns=feature_names)\n",
    "transform_train_df = transform_train_df.astype(dict([(col, \"int\") for col in binary_col_names]))"
   ]
  },
  {
   "cell_type": "code",
   "execution_count": 6,
   "id": "1f866048",
   "metadata": {
    "execution": {
     "iopub.execute_input": "2022-07-20T17:58:32.299641Z",
     "iopub.status.busy": "2022-07-20T17:58:32.298981Z",
     "iopub.status.idle": "2022-07-20T17:58:32.309362Z",
     "shell.execute_reply": "2022-07-20T17:58:32.308204Z"
    },
    "papermill": {
     "duration": 0.019048,
     "end_time": "2022-07-20T17:58:32.311801",
     "exception": false,
     "start_time": "2022-07-20T17:58:32.292753",
     "status": "completed"
    },
    "tags": []
   },
   "outputs": [],
   "source": [
    "transform_train_df1 = transform_train_df.copy()\n",
    "y_train_com = transform_train_df1.pop(\"label\")\n",
    "X_train_com = transform_train_df1\n",
    "X_train, X_valid, y_train, y_valid = train_test_split(X_train_com, y_train_com, test_size=0.3, random_state=1)"
   ]
  },
  {
   "cell_type": "code",
   "execution_count": 7,
   "id": "0180e9f2",
   "metadata": {
    "execution": {
     "iopub.execute_input": "2022-07-20T17:58:32.323519Z",
     "iopub.status.busy": "2022-07-20T17:58:32.323173Z",
     "iopub.status.idle": "2022-07-20T17:58:32.921193Z",
     "shell.execute_reply": "2022-07-20T17:58:32.919940Z"
    },
    "papermill": {
     "duration": 0.60685,
     "end_time": "2022-07-20T17:58:32.923542",
     "exception": false,
     "start_time": "2022-07-20T17:58:32.316692",
     "status": "completed"
    },
    "tags": []
   },
   "outputs": [
    {
     "name": "stdout",
     "output_type": "stream",
     "text": [
      "              precision    recall  f1-score   support\n",
      "\n",
      "         0.0       0.70      0.62      0.66       375\n",
      "         1.0       0.79      0.67      0.72       540\n",
      "         2.0       0.35      0.54      0.42       224\n",
      "\n",
      "    accuracy                           0.63      1139\n",
      "   macro avg       0.61      0.61      0.60      1139\n",
      "weighted avg       0.67      0.63      0.64      1139\n",
      "\n"
     ]
    }
   ],
   "source": [
    "n_models = 20\n",
    "models = []\n",
    "for i in range(n_models):\n",
    "    model = DecisionTreeClassifier(\n",
    "        class_weight=\"balanced\",\n",
    "        random_state=i+1,\n",
    "        ccp_alpha=0.001,\n",
    "        max_depth=10,\n",
    "        max_features=None,\n",
    "        min_samples_leaf=10,\n",
    "        min_samples_split=5\n",
    "    )\n",
    "    models.append((f\"model{i+1}\", model))\n",
    "voting = VotingClassifier(models, voting=\"soft\")\n",
    "voting.fit(X_train, y_train)\n",
    "preds = voting.predict(X_valid)\n",
    "print(classification_report(y_valid, preds))"
   ]
  },
  {
   "cell_type": "code",
   "execution_count": 8,
   "id": "38e4b8e1",
   "metadata": {
    "execution": {
     "iopub.execute_input": "2022-07-20T17:58:32.935614Z",
     "iopub.status.busy": "2022-07-20T17:58:32.934542Z",
     "iopub.status.idle": "2022-07-20T17:58:33.210318Z",
     "shell.execute_reply": "2022-07-20T17:58:33.208790Z"
    },
    "papermill": {
     "duration": 0.284396,
     "end_time": "2022-07-20T17:58:33.212830",
     "exception": false,
     "start_time": "2022-07-20T17:58:32.928434",
     "status": "completed"
    },
    "tags": []
   },
   "outputs": [
    {
     "name": "stdout",
     "output_type": "stream",
     "text": [
      "              precision    recall  f1-score   support\n",
      "\n",
      "         0.0       0.72      0.70      0.71       375\n",
      "         1.0       0.74      0.90      0.81       540\n",
      "         2.0       0.48      0.26      0.34       224\n",
      "\n",
      "    accuracy                           0.71      1139\n",
      "   macro avg       0.65      0.62      0.62      1139\n",
      "weighted avg       0.68      0.71      0.68      1139\n",
      "\n"
     ]
    }
   ],
   "source": [
    "bag_clf = BaggingClassifier(\n",
    "    base_estimator=DecisionTreeClassifier(\n",
    "        class_weight=\"balanced\",\n",
    "        max_features=None,\n",
    "    ),\n",
    "    random_state=1\n",
    ")\n",
    "bag_clf.fit(X_train, y_train)\n",
    "preds = bag_clf.predict(X_valid)\n",
    "print(classification_report(y_valid, preds))"
   ]
  },
  {
   "cell_type": "markdown",
   "id": "d6b30e31",
   "metadata": {
    "execution": {
     "iopub.execute_input": "2022-07-20T16:41:40.289439Z",
     "iopub.status.busy": "2022-07-20T16:41:40.289044Z",
     "iopub.status.idle": "2022-07-20T16:41:50.520652Z",
     "shell.execute_reply": "2022-07-20T16:41:50.519354Z",
     "shell.execute_reply.started": "2022-07-20T16:41:40.289406Z"
    },
    "papermill": {
     "duration": 0.005099,
     "end_time": "2022-07-20T17:58:33.222983",
     "exception": false,
     "start_time": "2022-07-20T17:58:33.217884",
     "status": "completed"
    },
    "tags": []
   },
   "source": [
    "param_grid = {\n",
    "    \"n_estimators\": [5,15, 20],\n",
    "    \"max_samples\": [0.5, 0.75, 1],\n",
    "    \"max_features\": [0.5, 0.75, 1],\n",
    "}\n",
    "model = BaggingClassifier(\n",
    "    base_estimator=DecisionTreeClassifier(\n",
    "        class_weight=\"balanced\",\n",
    "        max_features=None,\n",
    "    ),\n",
    "    random_state=1\n",
    ")\n",
    "search = GridSearchCV(model, param_grid, scoring=\"f1_macro\", refit=True, cv=3)\n",
    "search.fit(X_train_com, y_train_com)"
   ]
  },
  {
   "cell_type": "markdown",
   "id": "add89233",
   "metadata": {
    "execution": {
     "iopub.execute_input": "2022-07-20T16:41:50.523029Z",
     "iopub.status.busy": "2022-07-20T16:41:50.522587Z",
     "iopub.status.idle": "2022-07-20T16:41:50.529488Z",
     "shell.execute_reply": "2022-07-20T16:41:50.528299Z",
     "shell.execute_reply.started": "2022-07-20T16:41:50.522996Z"
    },
    "papermill": {
     "duration": 0.004541,
     "end_time": "2022-07-20T17:58:33.232400",
     "exception": false,
     "start_time": "2022-07-20T17:58:33.227859",
     "status": "completed"
    },
    "tags": []
   },
   "source": [
    "search.best_params_"
   ]
  },
  {
   "cell_type": "markdown",
   "id": "5561b904",
   "metadata": {
    "execution": {
     "iopub.execute_input": "2022-07-20T16:41:50.532043Z",
     "iopub.status.busy": "2022-07-20T16:41:50.530972Z",
     "iopub.status.idle": "2022-07-20T16:41:50.545129Z",
     "shell.execute_reply": "2022-07-20T16:41:50.543924Z",
     "shell.execute_reply.started": "2022-07-20T16:41:50.531996Z"
    },
    "papermill": {
     "duration": 0.004515,
     "end_time": "2022-07-20T17:58:33.241669",
     "exception": false,
     "start_time": "2022-07-20T17:58:33.237154",
     "status": "completed"
    },
    "tags": []
   },
   "source": [
    "search.best_score_"
   ]
  },
  {
   "cell_type": "markdown",
   "id": "3b014c65",
   "metadata": {
    "execution": {
     "iopub.execute_input": "2022-07-20T16:46:25.639637Z",
     "iopub.status.busy": "2022-07-20T16:46:25.639213Z",
     "iopub.status.idle": "2022-07-20T16:47:14.242415Z",
     "shell.execute_reply": "2022-07-20T16:47:14.241308Z",
     "shell.execute_reply.started": "2022-07-20T16:46:25.639604Z"
    },
    "papermill": {
     "duration": 0.004517,
     "end_time": "2022-07-20T17:58:33.251005",
     "exception": false,
     "start_time": "2022-07-20T17:58:33.246488",
     "status": "completed"
    },
    "tags": []
   },
   "source": [
    "param_grid = {\n",
    "    \"base_estimator__ccp_alpha\": [0.0001, 0.001, 0.01],\n",
    "    \"base_estimator__max_depth\": [5, 10, 15],\n",
    "    \"base_estimator__min_samples_split\": [5, 10, 15],\n",
    "    \"base_estimator__min_samples_leaf\": [5, 10, 15],\n",
    "}\n",
    "model = BaggingClassifier(\n",
    "    base_estimator=DecisionTreeClassifier(\n",
    "        class_weight=\"balanced\",\n",
    "        max_features=None,\n",
    "    ),\n",
    "    random_state=1,\n",
    "    max_features=0.75,\n",
    "    max_samples=0.5,\n",
    "    n_estimators=20\n",
    ")\n",
    "search = GridSearchCV(model, param_grid, scoring=\"f1_macro\", refit=True, cv=3)\n",
    "search.fit(X_train_com, y_train_com)"
   ]
  },
  {
   "cell_type": "markdown",
   "id": "f811e42f",
   "metadata": {
    "execution": {
     "iopub.execute_input": "2022-07-20T16:47:36.798933Z",
     "iopub.status.busy": "2022-07-20T16:47:36.797728Z",
     "iopub.status.idle": "2022-07-20T16:47:36.806154Z",
     "shell.execute_reply": "2022-07-20T16:47:36.805022Z",
     "shell.execute_reply.started": "2022-07-20T16:47:36.798880Z"
    },
    "papermill": {
     "duration": 0.004563,
     "end_time": "2022-07-20T17:58:33.260275",
     "exception": false,
     "start_time": "2022-07-20T17:58:33.255712",
     "status": "completed"
    },
    "tags": []
   },
   "source": [
    "search.best_params_"
   ]
  },
  {
   "cell_type": "markdown",
   "id": "5d1df066",
   "metadata": {
    "execution": {
     "iopub.execute_input": "2022-07-20T16:47:43.501330Z",
     "iopub.status.busy": "2022-07-20T16:47:43.500916Z",
     "iopub.status.idle": "2022-07-20T16:47:43.509070Z",
     "shell.execute_reply": "2022-07-20T16:47:43.507861Z",
     "shell.execute_reply.started": "2022-07-20T16:47:43.501297Z"
    },
    "papermill": {
     "duration": 0.004598,
     "end_time": "2022-07-20T17:58:33.269661",
     "exception": false,
     "start_time": "2022-07-20T17:58:33.265063",
     "status": "completed"
    },
    "tags": []
   },
   "source": [
    "search.best_score_"
   ]
  },
  {
   "cell_type": "code",
   "execution_count": 9,
   "id": "18764ac5",
   "metadata": {
    "execution": {
     "iopub.execute_input": "2022-07-20T17:58:33.280957Z",
     "iopub.status.busy": "2022-07-20T17:58:33.280581Z",
     "iopub.status.idle": "2022-07-20T17:58:33.487028Z",
     "shell.execute_reply": "2022-07-20T17:58:33.485773Z"
    },
    "papermill": {
     "duration": 0.217091,
     "end_time": "2022-07-20T17:58:33.491519",
     "exception": false,
     "start_time": "2022-07-20T17:58:33.274428",
     "status": "completed"
    },
    "tags": []
   },
   "outputs": [
    {
     "name": "stdout",
     "output_type": "stream",
     "text": [
      "              precision    recall  f1-score   support\n",
      "\n",
      "         0.0       0.79      0.68      0.73       375\n",
      "         1.0       0.79      0.86      0.82       540\n",
      "         2.0       0.46      0.46      0.46       224\n",
      "\n",
      "    accuracy                           0.72      1139\n",
      "   macro avg       0.68      0.67      0.67      1139\n",
      "weighted avg       0.72      0.72      0.72      1139\n",
      "\n"
     ]
    }
   ],
   "source": [
    "model = BaggingClassifier(\n",
    "    base_estimator=DecisionTreeClassifier(\n",
    "        class_weight=\"balanced\",\n",
    "        max_features=None,\n",
    "        ccp_alpha=0.0001,\n",
    "        max_depth=10,\n",
    "        min_samples_leaf=10,\n",
    "        min_samples_split=5\n",
    "    ),\n",
    "    random_state=1,\n",
    "    max_features=0.75,\n",
    "    max_samples=0.5,\n",
    "    n_estimators=20\n",
    ")\n",
    "model.fit(X_train, y_train)\n",
    "preds = model.predict(X_valid)\n",
    "print(classification_report(y_valid, preds))"
   ]
  },
  {
   "cell_type": "markdown",
   "id": "2b123511",
   "metadata": {
    "papermill": {
     "duration": 0.00507,
     "end_time": "2022-07-20T17:58:33.502014",
     "exception": false,
     "start_time": "2022-07-20T17:58:33.496944",
     "status": "completed"
    },
    "tags": []
   },
   "source": [
    "### Lets see if random forest can beat this!"
   ]
  },
  {
   "cell_type": "code",
   "execution_count": 10,
   "id": "64456337",
   "metadata": {
    "execution": {
     "iopub.execute_input": "2022-07-20T17:58:33.514081Z",
     "iopub.status.busy": "2022-07-20T17:58:33.513694Z",
     "iopub.status.idle": "2022-07-20T17:58:34.124527Z",
     "shell.execute_reply": "2022-07-20T17:58:34.123404Z"
    },
    "papermill": {
     "duration": 0.619962,
     "end_time": "2022-07-20T17:58:34.127451",
     "exception": false,
     "start_time": "2022-07-20T17:58:33.507489",
     "status": "completed"
    },
    "tags": []
   },
   "outputs": [
    {
     "name": "stdout",
     "output_type": "stream",
     "text": [
      "              precision    recall  f1-score   support\n",
      "\n",
      "         0.0       0.78      0.71      0.74       375\n",
      "         1.0       0.73      0.96      0.83       540\n",
      "         2.0       0.63      0.25      0.35       224\n",
      "\n",
      "    accuracy                           0.74      1139\n",
      "   macro avg       0.71      0.64      0.64      1139\n",
      "weighted avg       0.73      0.74      0.71      1139\n",
      "\n"
     ]
    }
   ],
   "source": [
    "# Good performance without tuning\n",
    "model = RandomForestClassifier()\n",
    "model.fit(X_train, y_train)\n",
    "preds = model.predict(X_valid)\n",
    "print(classification_report(y_valid, preds))"
   ]
  },
  {
   "cell_type": "markdown",
   "id": "87abf53a",
   "metadata": {
    "execution": {
     "iopub.execute_input": "2022-07-20T17:21:33.054897Z",
     "iopub.status.busy": "2022-07-20T17:21:33.054485Z",
     "iopub.status.idle": "2022-07-20T17:30:37.500192Z",
     "shell.execute_reply": "2022-07-20T17:30:37.499104Z",
     "shell.execute_reply.started": "2022-07-20T17:21:33.054864Z"
    },
    "papermill": {
     "duration": 0.005039,
     "end_time": "2022-07-20T17:58:34.138514",
     "exception": false,
     "start_time": "2022-07-20T17:58:34.133475",
     "status": "completed"
    },
    "tags": []
   },
   "source": [
    "param_grid = {\n",
    "    \"min_samples_split\": [2, 5, 10],\n",
    "    \"max_samples\": [0.5, 0.9],\n",
    "    \"n_estimators\": [100, 200],\n",
    "    \"min_samples_leaf\": [10, 20],\n",
    "    \"max_depth\": [10, 20],\n",
    "    \"ccp_alpha\": [0.0001, 0.001]\n",
    "}\n",
    "model = RandomForestClassifier(\n",
    "    max_features=None,\n",
    "    random_state=1,\n",
    "    class_weight=\"balanced\",\n",
    "    min_samples_leaf=10,\n",
    "    n_estimators=100\n",
    ")\n",
    "search = GridSearchCV(model, param_grid, scoring=\"f1_macro\", refit=True, cv=3)\n",
    "search.fit(X_train_com, y_train_com)"
   ]
  },
  {
   "cell_type": "markdown",
   "id": "e92a8a73",
   "metadata": {
    "execution": {
     "iopub.execute_input": "2022-07-20T17:37:19.794657Z",
     "iopub.status.busy": "2022-07-20T17:37:19.792213Z",
     "iopub.status.idle": "2022-07-20T17:37:19.806671Z",
     "shell.execute_reply": "2022-07-20T17:37:19.805561Z",
     "shell.execute_reply.started": "2022-07-20T17:37:19.794583Z"
    },
    "papermill": {
     "duration": 0.005519,
     "end_time": "2022-07-20T17:58:34.149462",
     "exception": false,
     "start_time": "2022-07-20T17:58:34.143943",
     "status": "completed"
    },
    "tags": []
   },
   "source": [
    "search.best_params_"
   ]
  },
  {
   "cell_type": "markdown",
   "id": "62c1046c",
   "metadata": {
    "execution": {
     "iopub.execute_input": "2022-07-20T17:37:21.304256Z",
     "iopub.status.busy": "2022-07-20T17:37:21.303299Z",
     "iopub.status.idle": "2022-07-20T17:37:21.313644Z",
     "shell.execute_reply": "2022-07-20T17:37:21.312520Z",
     "shell.execute_reply.started": "2022-07-20T17:37:21.304207Z"
    },
    "papermill": {
     "duration": 0.004934,
     "end_time": "2022-07-20T17:58:34.159638",
     "exception": false,
     "start_time": "2022-07-20T17:58:34.154704",
     "status": "completed"
    },
    "tags": []
   },
   "source": [
    "search.best_score_"
   ]
  },
  {
   "cell_type": "code",
   "execution_count": 11,
   "id": "85c541c6",
   "metadata": {
    "execution": {
     "iopub.execute_input": "2022-07-20T17:58:34.171504Z",
     "iopub.status.busy": "2022-07-20T17:58:34.171157Z",
     "iopub.status.idle": "2022-07-20T17:58:35.732301Z",
     "shell.execute_reply": "2022-07-20T17:58:35.731510Z"
    },
    "papermill": {
     "duration": 1.570721,
     "end_time": "2022-07-20T17:58:35.735379",
     "exception": false,
     "start_time": "2022-07-20T17:58:34.164658",
     "status": "completed"
    },
    "tags": []
   },
   "outputs": [
    {
     "name": "stdout",
     "output_type": "stream",
     "text": [
      "              precision    recall  f1-score   support\n",
      "\n",
      "         0.0       0.79      0.65      0.71       375\n",
      "         1.0       0.78      0.84      0.81       540\n",
      "         2.0       0.46      0.52      0.49       224\n",
      "\n",
      "    accuracy                           0.71      1139\n",
      "   macro avg       0.68      0.67      0.67      1139\n",
      "weighted avg       0.72      0.71      0.71      1139\n",
      "\n"
     ]
    }
   ],
   "source": [
    "# Similar to BaggingClassifier\n",
    "model = RandomForestClassifier(\n",
    "    max_features=None,\n",
    "    random_state=1,\n",
    "    class_weight=\"balanced\",\n",
    "    n_estimators=100,\n",
    "    max_samples=0.9,\n",
    "    min_samples_split=2,\n",
    "    min_samples_leaf=10,\n",
    "    max_depth=10,\n",
    "    ccp_alpha=0.0001\n",
    ")\n",
    "model.fit(X_train, y_train)\n",
    "preds = model.predict(X_valid)\n",
    "print(classification_report(y_valid, preds))"
   ]
  },
  {
   "cell_type": "code",
   "execution_count": 12,
   "id": "4248d138",
   "metadata": {
    "execution": {
     "iopub.execute_input": "2022-07-20T17:58:35.751999Z",
     "iopub.status.busy": "2022-07-20T17:58:35.750836Z",
     "iopub.status.idle": "2022-07-20T17:58:37.920984Z",
     "shell.execute_reply": "2022-07-20T17:58:37.919882Z"
    },
    "papermill": {
     "duration": 2.18134,
     "end_time": "2022-07-20T17:58:37.923441",
     "exception": false,
     "start_time": "2022-07-20T17:58:35.742101",
     "status": "completed"
    },
    "tags": []
   },
   "outputs": [
    {
     "data": {
      "text/plain": [
       "RandomForestClassifier(ccp_alpha=0.0001, class_weight='balanced', max_depth=10,\n",
       "                       max_features=None, max_samples=0.9, min_samples_leaf=10,\n",
       "                       random_state=1)"
      ]
     },
     "execution_count": 12,
     "metadata": {},
     "output_type": "execute_result"
    }
   ],
   "source": [
    "model = RandomForestClassifier(\n",
    "    max_features=None,\n",
    "    random_state=1,\n",
    "    class_weight=\"balanced\",\n",
    "    n_estimators=100,\n",
    "    max_samples=0.9,\n",
    "    min_samples_split=2,\n",
    "    min_samples_leaf=10,\n",
    "    max_depth=10,\n",
    "    ccp_alpha=0.0001\n",
    ")\n",
    "model.fit(X_train_com, y_train_com)"
   ]
  },
  {
   "cell_type": "code",
   "execution_count": 13,
   "id": "793a47d1",
   "metadata": {
    "execution": {
     "iopub.execute_input": "2022-07-20T17:58:37.936008Z",
     "iopub.status.busy": "2022-07-20T17:58:37.935636Z",
     "iopub.status.idle": "2022-07-20T17:58:38.008658Z",
     "shell.execute_reply": "2022-07-20T17:58:38.007684Z"
    },
    "papermill": {
     "duration": 0.082434,
     "end_time": "2022-07-20T17:58:38.011301",
     "exception": false,
     "start_time": "2022-07-20T17:58:37.928867",
     "status": "completed"
    },
    "tags": []
   },
   "outputs": [],
   "source": [
    "# We do not need 'id' column\n",
    "# Scale non binary features\n",
    "test_df = pd.read_csv(\"../input/students-drop-out-prediction/test.csv\")\n",
    "transform_test_data = transformer.fit_transform(test_df)\n",
    "feature_names = [name.split(\"__\")[1] for name in transformer.get_feature_names_out()]\n",
    "transform_test_df = pd.DataFrame(data=transform_test_data, columns=feature_names)\n",
    "transform_test_df = transform_test_df.astype(dict([(col, \"int\") for col in binary_col_names]))\n",
    "preds = [int(i) for i in model.predict(transform_test_df)]\n",
    "submission = pd.DataFrame({\"id\": test_df[\"id\"].to_numpy(), \"label\": preds})\n",
    "submission.to_csv(\"submission.csv\", index=False)"
   ]
  }
 ],
 "metadata": {
  "kernelspec": {
   "display_name": "Python 3",
   "language": "python",
   "name": "python3"
  },
  "language_info": {
   "codemirror_mode": {
    "name": "ipython",
    "version": 3
   },
   "file_extension": ".py",
   "mimetype": "text/x-python",
   "name": "python",
   "nbconvert_exporter": "python",
   "pygments_lexer": "ipython3",
   "version": "3.7.12"
  },
  "papermill": {
   "default_parameters": {},
   "duration": 17.145861,
   "end_time": "2022-07-20T17:58:38.739684",
   "environment_variables": {},
   "exception": null,
   "input_path": "__notebook__.ipynb",
   "output_path": "__notebook__.ipynb",
   "parameters": {},
   "start_time": "2022-07-20T17:58:21.593823",
   "version": "2.3.4"
  }
 },
 "nbformat": 4,
 "nbformat_minor": 5
}
